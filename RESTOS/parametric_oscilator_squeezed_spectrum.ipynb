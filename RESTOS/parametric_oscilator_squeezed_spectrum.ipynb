{
 "cells": [
  {
   "cell_type": "code",
   "execution_count": 1430,
   "metadata": {},
   "outputs": [],
   "source": [
    "from qutip import *\n",
    "import numpy as np\n",
    "import scipy as scipy\n",
    "import os\n",
    "from tqdm import tqdm\n",
    "import sys\n",
    "import matplotlib.pyplot as plt\n",
    "import matplotlib as mpl\n",
    "from matplotlib import cm\n",
    "import matplotlib.animation as animation\n",
    "import matplotlib.colors as colors\n",
    "import matplotlib.gridspec as gridspec"
   ]
  },
  {
   "cell_type": "code",
   "execution_count": 1474,
   "metadata": {},
   "outputs": [],
   "source": [
    "N = 10 # Dimension of the Hilbert space of the cavity\n",
    "theta = np.pi\n",
    "eps = 1*np.exp(1j*theta)\n",
    "gamma = 10"
   ]
  },
  {
   "cell_type": "code",
   "execution_count": 1485,
   "metadata": {},
   "outputs": [],
   "source": [
    "a = destroy(N) \n",
    "\n",
    "H = 1j*(eps*a.dag()**2-np.conj(eps)*a**2) # Hamiltonian of the system in the squeezed basis\n",
    "Lops = [np.sqrt(gamma)*a]\n",
    "\n",
    "tau_vec = np.linspace(0,100/gamma,100000) # Time vector of delays\n",
    "freqs = np.linspace(-20,20,200) # Frequencies\n",
    "\n",
    "quad_ang = (theta+np.pi)/2\n",
    "x_ang = a*np.exp(-1j*quad_ang)+a.dag()*np.exp(1j*quad_ang)\n",
    "\n",
    "rho_0 = displace(N,1)*basis(N)\n",
    "spec = np.zeros([np.size(tau_vec)])"
   ]
  },
  {
   "cell_type": "code",
   "execution_count": 1486,
   "metadata": {},
   "outputs": [],
   "source": [
    "rho_ss = steadystate(H, Lops)\n",
    "mean_a = expect(a,rho_ss)\n",
    "mean_ad = expect(a.dag(),rho_ss)"
   ]
  },
  {
   "cell_type": "code",
   "execution_count": 1487,
   "metadata": {},
   "outputs": [
    {
     "data": {
      "text/plain": [
       "'\\nt_vec = np.linspace(0,10/gamma,100) # Time vector of times\\nprueba = correlation_2op_2t(H, rho_0, t_vec, tau_vec, Lops, a, a, options=Options(nsteps=10000))\\nprint(1)\\nprueba2 = correlation_2op_2t(H, rho_0, t_vec+tau_vec, tau_vec, Lops, a, a, options=Options(nsteps=10000))\\nplt.plot(prueba-prueba2)\\nplt.show()\\n'"
      ]
     },
     "execution_count": 1487,
     "metadata": {},
     "output_type": "execute_result"
    }
   ],
   "source": [
    "'''\n",
    "t_vec = np.linspace(0,10/gamma,100) # Time vector of times\n",
    "prueba = correlation_2op_2t(H, rho_0, t_vec, tau_vec, Lops, a, a, options=Options(nsteps=10000))\n",
    "print(1)\n",
    "prueba2 = correlation_2op_2t(H, rho_0, t_vec+tau_vec, tau_vec, Lops, a, a, options=Options(nsteps=10000))\n",
    "plt.plot(prueba-prueba2)\n",
    "plt.show()\n",
    "'''"
   ]
  },
  {
   "cell_type": "code",
   "execution_count": null,
   "metadata": {},
   "outputs": [
    {
     "name": "stdout",
     "output_type": "stream",
     "text": [
      "1\n",
      "2\n",
      "3\n"
     ]
    }
   ],
   "source": [
    "corr_aa = correlation_2op_1t(H, None, tau_vec, Lops, a, a, options=Options(nsteps=10000))\n",
    "print(1)\n",
    "corr_adad = correlation_2op_1t(H, None, tau_vec, Lops, a.dag(), a.dag(), options=Options(nsteps=10000), reverse = 'True')\n",
    "print(2)\n",
    "corr_ada = correlation_2op_1t(H, None, tau_vec, Lops, a.dag(), a, options=Options(nsteps=10000))\n",
    "print(3)\n",
    "corr_aad = correlation_2op_1t(H, None, tau_vec, Lops, a.dag(), a, options=Options(nsteps=10000), reverse = 'True')"
   ]
  },
  {
   "cell_type": "code",
   "execution_count": 1543,
   "metadata": {},
   "outputs": [],
   "source": [
    "corr = np.exp(-1j*2*quad_ang)*(corr_aa-mean_a*mean_a)+(corr_aad-mean_ad*mean_a)+(corr_ada-mean_a*mean_ad)+np.exp(1j*2*quad_ang)*(corr_adad-mean_ad*mean_ad)"
   ]
  },
  {
   "cell_type": "code",
   "execution_count": 1544,
   "metadata": {},
   "outputs": [],
   "source": [
    "freqs = np.linspace(-1000,1000,1000)"
   ]
  },
  {
   "cell_type": "code",
   "execution_count": 1545,
   "metadata": {},
   "outputs": [],
   "source": [
    "#freqs = np.sort(np.fft.fftfreq(np.size(tau_vec), d=1))"
   ]
  },
  {
   "cell_type": "code",
   "execution_count": 1546,
   "metadata": {},
   "outputs": [
    {
     "name": "stderr",
     "output_type": "stream",
     "text": [
      "C:\\Users\\rodri\\AppData\\Local\\Temp\\ipykernel_21520\\33226049.py:3: ComplexWarning: Casting complex values to real discards the imaginary part\n",
      "  spec[j] = 2*gamma*scipy.integrate.simpson(np.cos(freqs[j]*tau_vec)*corr,x=tau_vec)\n"
     ]
    }
   ],
   "source": [
    "spec = np.zeros([np.size(freqs)])\n",
    "for j in range(np.size(freqs)):\n",
    "    spec[j] = 2*gamma*scipy.integrate.simpson(np.cos(freqs[j]*tau_vec)*corr,x=tau_vec)"
   ]
  },
  {
   "cell_type": "code",
   "execution_count": 1547,
   "metadata": {},
   "outputs": [],
   "source": [
    "exact1 = 2*gamma*np.abs(eps)/(((gamma/2)-np.abs(eps))**2+np.sort(freqs)**2) #theta/2\n",
    "exact2 = -2*gamma*np.abs(eps)/(((gamma/2)+np.abs(eps))**2+np.sort(freqs)**2) #(theta+pi)/2"
   ]
  },
  {
   "cell_type": "code",
   "execution_count": 1548,
   "metadata": {},
   "outputs": [
    {
     "data": {
      "text/plain": [
       "<matplotlib.legend.Legend at 0x13b0eac5190>"
      ]
     },
     "execution_count": 1548,
     "metadata": {},
     "output_type": "execute_result"
    },
    {
     "data": {
      "image/png": "[encoded data removed]",
      "text/plain": [
       "<Figure size 640x480 with 1 Axes>"
      ]
     },
     "metadata": {},
     "output_type": "display_data"
    }
   ],
   "source": [
    "plt.plot(np.sort(freqs),spec,label='Numerical')\n",
    "plt.plot(np.sort(freqs),exact2,label='Milburn')\n",
    "#plt.plot(freqs,np.zeros(np.size(freqs)),'--')\n",
    "#plt.ylim([-1,10])\n",
    "#plt.semilogy()\n",
    "plt.legend()"
   ]
  }
 ],
 "metadata": {
  "kernelspec": {
   "display_name": "myenv",
   "language": "python",
   "name": "python3"
  },
  "language_info": {
   "codemirror_mode": {
    "name": "ipython",
    "version": 3
   },
   "file_extension": ".py",
   "mimetype": "text/x-python",
   "name": "python",
   "nbconvert_exporter": "python",
   "pygments_lexer": "ipython3",
   "version": "3.11.10"
  }
 },
 "nbformat": 4,
 "nbformat_minor": 2
}
