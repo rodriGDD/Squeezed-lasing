{
 "cells": [
  {
   "cell_type": "markdown",
   "metadata": {},
   "source": [
    "# Source code"
   ]
  },
  {
   "cell_type": "markdown",
   "metadata": {},
   "source": [
    "This file contains functions used in the different codes of the proyect. A list of the classes and functions with a brief description of them will be included below."
   ]
  },
  {
   "cell_type": "code",
   "execution_count": 230,
   "metadata": {},
   "outputs": [],
   "source": [
    "from qutip import *\n",
    "import numpy as np\n",
    "import scipy as scipy\n",
    "import os\n",
    "from tqdm import tqdm\n",
    "import sys"
   ]
  },
  {
   "cell_type": "code",
   "execution_count": 231,
   "metadata": {},
   "outputs": [
    {
     "data": {
      "text/plain": [
       "'\\n\\nEjemplo de descripción\\n\\nA class representing a quantum model with open-system dynamics.\\n\\nAttributes:\\n-----------\\n    H (qobj): The system Hamiltonian.\\n    c_ops (list of qobj): List of collapse operators representing system-environment interactions.\\n    J (array): Jump matrix corresponding to collapse operators.\\n    L (qobj): Liouvillian operator representing the full dynamics.\\n    psi0 (qobj): Initial state of the quantum system.\\n    Lhat (qobj): Modified Liouvillian by subtracting the Jump matrix.\\n    rho0 (array): Vectorized initial density matrix.\\n    Ehat (array or None): Eigenvalue matrix of the modified Liouvillian (Lhat).\\n    Einvhat (array or None): Inverse of the Eigenvalue matrix (Ehat) if available.\\n    eigs_hat (array or None): Eigenvalues of the modified Liouvillian (Lhat).\\n\\nMethods:\\n-----------\\n    simulateTrajectories(self, tfin=float, ntraj=int, tlistexp=None, seed=None):\\n        Generates an array of Monte Carlo jumps from the given quantum model.\\n\\n    simulateTrajectoryFixedJumps(self, njumpsMC=48):\\n        Simulate a single quantum trajectory with a fixed total number of quantum jumps.\\n\\n    computeLikelihood(self, data: np.array, r: float = 5.0, tfin=-1, method=\"spectral\") -> np.array:\\n        Returns the likelihood function L(D|model) proportional to the probability of the data D being measured,\\n        given a particular model (Hamiltonian + quantum jump operators).\\n'"
      ]
     },
     "execution_count": 231,
     "metadata": {},
     "output_type": "execute_result"
    }
   ],
   "source": [
    "\"\"\"\n",
    "\n",
    "Ejemplo de descripción\n",
    "\n",
    "A class representing a quantum model with open-system dynamics.\n",
    "\n",
    "Attributes:\n",
    "-----------\n",
    "    H (qobj): The system Hamiltonian.\n",
    "    c_ops (list of qobj): List of collapse operators representing system-environment interactions.\n",
    "    J (array): Jump matrix corresponding to collapse operators.\n",
    "    L (qobj): Liouvillian operator representing the full dynamics.\n",
    "    psi0 (qobj): Initial state of the quantum system.\n",
    "    Lhat (qobj): Modified Liouvillian by subtracting the Jump matrix.\n",
    "    rho0 (array): Vectorized initial density matrix.\n",
    "    Ehat (array or None): Eigenvalue matrix of the modified Liouvillian (Lhat).\n",
    "    Einvhat (array or None): Inverse of the Eigenvalue matrix (Ehat) if available.\n",
    "    eigs_hat (array or None): Eigenvalues of the modified Liouvillian (Lhat).\n",
    "\n",
    "Methods:\n",
    "-----------\n",
    "    simulateTrajectories(self, tfin=float, ntraj=int, tlistexp=None, seed=None):\n",
    "        Generates an array of Monte Carlo jumps from the given quantum model.\n",
    "\n",
    "    simulateTrajectoryFixedJumps(self, njumpsMC=48):\n",
    "        Simulate a single quantum trajectory with a fixed total number of quantum jumps.\n",
    "\n",
    "    computeLikelihood(self, data: np.array, r: float = 5.0, tfin=-1, method=\"spectral\") -> np.array:\n",
    "        Returns the likelihood function L(D|model) proportional to the probability of the data D being measured,\n",
    "        given a particular model (Hamiltonian + quantum jump operators).\n",
    "\"\"\""
   ]
  },
  {
   "cell_type": "code",
   "execution_count": 268,
   "metadata": {},
   "outputs": [],
   "source": [
    "class squeezed_lasing:\n",
    "\n",
    "    def __init__(self,delta_s=None,delta_sigma=None,g_0=None,P=None,k=None,N=300,theta=np.pi,r=0,eta=0,omega=0,phi=0):\n",
    "\n",
    "        # Initialize the squeezed_lasing class\n",
    "\n",
    "        self.a_s = tensor(destroy(N),identity(2)) # Annihilation operator in squeezed basis\n",
    "        self.a = self.a_s*np.cosh(r)-np.exp(-1j*theta)*self.a_s.dag()*np.sinh(r)# Annihilation operator in squeezed basis\n",
    "        self.sigma = tensor(identity(N),basis(2,0)*basis(2,1).dag()) # Lowering operator\n",
    "        self.delta_s = delta_s\n",
    "        self.delta_sigma = delta_sigma\n",
    "        self.g_0 = g_0\n",
    "        self.P = P\n",
    "        self.k = k\n",
    "        self.N = N\n",
    "        self.theta = theta\n",
    "        self.r = r\n",
    "        self.eta = eta\n",
    "        self.omega = omega\n",
    "        self.phi = phi\n",
    "\n",
    "    def def_H(self):\n",
    "        a_s = self.a_s; sigma = self.sigma; delta_s = self.delta_s; delta_sigma = self.delta_sigma; g_0 = self.g_0; r = self.r; omega = self.omega; phi = self.phi;\n",
    "\n",
    "        return delta_s*a_s.dag()*a_s+delta_sigma*sigma.dag()*sigma+g_0*np.cosh(r)*(a_s.dag()*sigma+a_s*sigma.dag())+omega*(a_s*np.exp(1j*phi)+a_s.dag()*np.exp(-1j*phi)) # Hamiltonian of the system in the squeezed basis\n",
    "    \n",
    "    def def_Lops(self):\n",
    "        a_s = self.a_s; sigma = self.sigma; P = self.P; k = self.k; eta = self.eta;\n",
    "        # Collapse operator for incoherent pumping\n",
    "        # Collapse operator for photon decay\n",
    "        return [np.sqrt(P)*sigma.dag(),np.sqrt(k*(1+eta))*a_s]\n",
    "\n",
    "    def calc_rho_sss(self):\n",
    "        delta_s = self.delta_s; delta_sigma = self.delta_sigma; g_0 = self.g_0; P = self.P; k = self.k; r = self.r; eta = self.eta; omega = self.omega; phi = self.phi;\n",
    "\n",
    "        H = self.def_H()\n",
    "        Lops = self.def_Lops()\n",
    "\n",
    "        return steadystate(H,Lops) # Density matrix in the squeezed basis of the steadystate \n",
    "    \n",
    "    def calc_rho_bss(self,rho=None):\n",
    "        a = self.a; delta_s = self.delta_s; delta_sigma = self.delta_sigma; g_0 = self.g_0; P = self.P; k = self.k; theta = self.theta; r = self.r; eta = self.eta; omega = self.omega; phi = self.phi;\n",
    "        self.chi = r*np.exp(-1j*theta) \n",
    "        self.S = (0.5*(self.chi*a*a-np.conj(self.chi)*a.dag()*a.dag())).expm() # Squeezing operator\n",
    "\n",
    "        if rho is None:\n",
    "            return self.S*self.calc_rho_sss()*self.S.dag() # Steady states in the bare basis\n",
    "        else:\n",
    "            return self.S*rho*self.S.dag() # Steady states in the bare basis\n",
    "    \n",
    "    def no_squeezed_ev(self,rho,n_dag,n):\n",
    "        a_s = self.a_s;\n",
    "\n",
    "        return expect(a_s.dag()**n_dag*a_s**n,rho)\n",
    "    \n",
    "    def no_bare_ev(self,rho,n_dag,n):\n",
    "        a = self.a;\n",
    "\n",
    "        return expect(a.dag()**n_dag*a**n,rho)\n",
    "    \n",
    "    def corr_2(self,rho,tau_f=25):\n",
    "        a = self.a; k = self.k;\n",
    "\n",
    "        self.tau_vec = np.linspace(0,tau_f/k,10000) # Time vector of delays\n",
    "        H = self.def_H()\n",
    "        Lops = self.def_Lops()\n",
    "        \n",
    "        self.corr2 = correlation_3op_1t(H, None, self.tau_vec, Lops, a.dag(), a.dag()*a, a)\n",
    "\n",
    "        return self.tau_vec, self.corr2/(self.no_bare_ev(rho,1,1))**2\n",
    "    \n",
    "    def emis_spec(self,tau_f=25):\n",
    "        a = self.a; k = self.k;\n",
    "\n",
    "        self.tau_vec = np.linspace(0,tau_f/k,100) # Time vector of delays\n",
    "        H = self.def_H()\n",
    "        Lops = self.def_Lops()\n",
    "        corr = correlation_2op_1t(H, None, self.tau_vec, Lops, a.dag(), a, options=Options(nsteps=100000))\n",
    "        wlist, spec = spectrum_correlation_fft(self.tau_vec,corr)\n",
    "\n",
    "        return wlist, spec\n",
    "    \n",
    "    def phot_dist(self,rho):\n",
    "\n",
    "        return rho.ptrace(0).diag()\n",
    "    \n",
    "    def quad_unc(self,quad_ang,rho):\n",
    "        a = self.a;\n",
    "        X_ang = a*np.exp(1j*quad_ang)+a.dag()*np.exp(-1j*quad_ang)\n",
    "\n",
    "        return expect(X_ang**2,rho)-expect(X_ang,rho)**2 # Fluctuations of the quadrature\n",
    "    \n",
    "    def Liouv_eigval(self,):\n",
    "        H = self.def_H()\n",
    "        Lops = self.def_Lops()\n",
    "        \n",
    "        return liouvillian(H,Lops).eigenenergies()\n",
    "    \n",
    "    def squeezed_spec(self,quad_ang,rho,tau_f=25,t_f=10):\n",
    "        a = self.a; k = self.k; theta = self.theta; r = self.r; phi = self.phi; N = self.N;\n",
    "        \n",
    "        H = self.def_H()\n",
    "        Lops = self.def_Lops()\n",
    "        self.tau_vec = np.linspace(0,tau_f/k,100) # Time vector of delays\n",
    "        self.t_vec = np.linspace(0,t_f/k,10) # Time vector of times\n",
    "        self.X_ang = a*np.exp(-1j*quad_ang)+a.dag()*np.exp(1j*quad_ang)\n",
    "        alpha = np.sqrt(self.no_bare_ev(rho,1,1))*np.exp(1j*phi)\n",
    "        psi_0 = displace(N,alpha)*basis(N)\n",
    "        rho_0 = tensor(psi_0*psi_0.dag(),basis(2,1)*basis(2,1).dag())\n",
    "\n",
    "        # corr = np.exp(-1j*2*quad_ang)*correlation_2op_2t(H, rho_0, self.t_vec, self.tau_vec, Lops, a, a, options=Options(nsteps=10000))+correlation_2op_2t(H, rho_0, self.t_vec, self.tau_vec, Lops, a, a.dag(), options=Options(nsteps=10000))+correlation_2op_2t(H, rho_0, self.t_vec, self.tau_vec, Lops, a.dag(), a, options=Options(nsteps=10000))+np.exp(1j*2*quad_ang)*correlation_2op_2t(H, rho_0, self.t_vec, self.tau_vec, Lops, a.dag(), a.dag(), options=Options(nsteps=10000))\n",
    "        corr = correlation_2op_2t(H, rho_0, self.t_vec, self.tau_vec, Lops, self.X_ang, self.X_ang, options=Options(nsteps=10000))\n",
    "        mean_t = mesolve(H, rho_0, self.t_vec, Lops, [self.X_ang], options=Options(nsteps=10000)).expect[0]\n",
    "        if mean_t[2] == 0:\n",
    "            print('A')\n",
    "\n",
    "        spec = np.zeros([np.size(self.t_vec),np.size(self.tau_vec)])\n",
    "        for i in range(np.size(self.t_vec)):\n",
    "            mean_ttau = mesolve(H, rho_0, self.t_vec[i]*np.ones(np.size(self.tau_vec))+self.tau_vec, Lops, [self.X_ang], options=Options(nsteps=10000)).expect[0]\n",
    "            wlist, spec[i,:] = spectrum_correlation_fft(self.tau_vec,corr[i]-(mean_t[i]*np.ones(np.size(self.tau_vec)))*mean_ttau)    \n",
    "        return self.t_vec, wlist, k*spec-np.ones(np.shape(spec))"
   ]
  },
  {
   "cell_type": "code",
   "execution_count": 233,
   "metadata": {},
   "outputs": [],
   "source": [
    "import matplotlib.pyplot as plt\n",
    "import matplotlib as mpl\n",
    "from matplotlib import cm\n",
    "import matplotlib.animation as animation\n",
    "import matplotlib.colors as colors\n",
    "import matplotlib.gridspec as gridspec"
   ]
  },
  {
   "cell_type": "code",
   "execution_count": 234,
   "metadata": {},
   "outputs": [],
   "source": [
    "class wigner_rep:\n",
    "\n",
    "    def __init__(self,rhos = None,params: list = None):\n",
    "        if rhos is None:\n",
    "            self.delta_s = params[0]\n",
    "            self.delta_sigma = params[1]\n",
    "            self.g_0 = params[2]\n",
    "            self.P = params[3]\n",
    "            self.k = params[4]\n",
    "            self.N = params[5]\n",
    "            self.theta = params[6]\n",
    "            self.r = params[7]\n",
    "            self.eta = params[8]\n",
    "            self.omega = params[9]\n",
    "            self.phi = params[10]   \n",
    "\n",
    "            sl = squeezed_lasing(self.delta_s,self.delta_sigma,self.g_0,self.P,self.k,self.N,self.theta,self.r,self.eta,self.omega,self.phi)\n",
    "            self.H = sl.def_H()\n",
    "            self.Lops = sl.def_Lops()\n",
    "            self.rho = sl.calc_rho_bss()\n",
    "        else:\n",
    "            self.rhos = rhos\n",
    "            \n",
    "    def wigner_calc(self,rho,x_lim,p_lim):\n",
    "        wig_xvec = np.linspace(-x_lim,x_lim,100) # Values of x in the phase space\n",
    "        wig_pvec = np.linspace(-p_lim,p_lim,100) # Values of p in the phase space\n",
    "        Wigner = wigner(rho.ptrace(0),wig_xvec,wig_pvec) # Calculation of the Wigner function\n",
    "\n",
    "        return wig_xvec, wig_pvec, Wigner\n",
    "\n",
    "    def wigner_plot(self,x_lim,p_lim):\n",
    "        rho = self.rhos;\n",
    "\n",
    "        wig_xvec, wig_pvec, Wigner = self.wigner_calc(rho,x_lim,p_lim)\n",
    "\n",
    "        if np.isnan(Wigner.max()).any()==True or np.isnan(Wigner.min()).any()==True:\n",
    "            sys.exit('Warning: NaN encountered in the calculation of Wigner. Change axis limits.')\n",
    "        else:\n",
    "            nrm_lim = Wigner.max()\n",
    "\n",
    "        nrm = mpl.colors.Normalize(-nrm_lim,nrm_lim) # Colorbar settings\n",
    "\n",
    "        fig, ax = plt.subplots()\n",
    "        \n",
    "        cbar = fig.colorbar(cm.ScalarMappable(norm=nrm, cmap=cm.RdBu_r),cax = ax.inset_axes([1.05, 0.1, 0.05, 0.8]))\n",
    "        cbar.set_label('W(x,p)',fontsize=14)\n",
    "        ax.contourf(wig_xvec, wig_pvec, Wigner, 100, cmap=cm.RdBu_r, norm=nrm) # Plot of the Wigner\n",
    "\n",
    "        plt.xlim([np.min(wig_xvec),np.max(wig_xvec)]) # Figure settings\n",
    "        plt.ylim([np.min(wig_pvec),np.max(wig_pvec)])\n",
    "        plt.title('Steady state Wigner function',fontsize=14)\n",
    "        plt.axis('scaled')\n",
    "        plt.xlabel('x',fontsize=14)\n",
    "        plt.ylabel('p',fontsize=14)\n",
    "        plt.show()\n",
    "\n",
    "    def wigner_animation(self,x_lim,p_lim,figname: str = 'Wig',speed = 100, moving_param: np.array = None, mrname: str = None):\n",
    "        rhos = self.rhos;\n",
    "\n",
    "        def update_Wigner(num,x_lim,p_lim,mrname,moving_param):\n",
    "            wig_xvec, wig_pvec, Wigner = self.wigner_calc(rhos[num],x_lim,p_lim)\n",
    "\n",
    "            ax.cla()\n",
    "            \n",
    "            if np.isnan(Wigner.max()).any()==True or np.isnan(Wigner.min()).any()==True:\n",
    "                sys.exit('Warning: NaN encountered in the calculation of Wigner. Change axis limits.')\n",
    "            else:\n",
    "                nrm_lim = Wigner.max()\n",
    "            nrm = mpl.colors.Normalize(-nrm_lim,nrm_lim) # Colorbar settings\n",
    "            \n",
    "            cbar = plt.colorbar(cm.ScalarMappable(norm=nrm, cmap=cm.RdBu),cax = ax.inset_axes([1.05, 0.1, 0.05, 0.8])) # Colorbar settings\n",
    "            cbar.set_label(label='$W(x,p)$',fontsize = 10)\n",
    "            \n",
    "            ax.contourf(wig_xvec, wig_pvec, Wigner, 100, cmap=cm.RdBu, norm=nrm)\n",
    "\n",
    "            ax.set_xlim([np.min(wig_xvec),np.max(wig_xvec)])\n",
    "            ax.set_ylim([np.min(wig_pvec),np.max(wig_pvec)])\n",
    "            ax.set_title('Evolution of the Wigner function ('+mrname+' = '+str(format(moving_param[num],'.3f'))+')')\n",
    "            ax.set_xlabel('x')\n",
    "            ax.set_ylabel('p')\n",
    "            ax.axis('scaled')\n",
    "\n",
    "        im,ax = plt.subplots(figsize=(x_lim/2+1.6,p_lim/2))\n",
    "\n",
    "        wig_xvec, wig_pvec, Wigner = self.wigner_calc(rhos[0],x_lim,p_lim)\n",
    "\n",
    "        if np.isnan(Wigner.max()).any()==True or np.isnan(Wigner.min()).any()==True:\n",
    "            sys.exit('Warning: NaN encountered in the calculation of Wigner. Change axis limits.')\n",
    "        else:\n",
    "            nrm_lim = Wigner.max()\n",
    "        nrm = mpl.colors.Normalize(-nrm_lim,nrm_lim) # Color norm settings\n",
    "        \n",
    "        ax.contourf(wig_xvec, wig_pvec, Wigner, 100, cmap=cm.RdBu, norm=nrm)\n",
    "\n",
    "        cbar = im.colorbar(cm.ScalarMappable(norm=nrm, cmap=cm.RdBu),cax = ax.inset_axes([1.05, 0.1, 0.05, 0.8])) # Colorbar settings\n",
    "        cbar.set_label(label='$W(x,p)$',fontsize = 10)\n",
    "\n",
    "        animW = animation.FuncAnimation(im, update_Wigner, range(np.ma.size(rhos,0)), fargs = (x_lim,p_lim, mrname, moving_param, ), interval = speed)\n",
    "        animW.save(str(figname)+'_WIGNER.gif') "
   ]
  },
  {
   "cell_type": "code",
   "execution_count": 245,
   "metadata": {},
   "outputs": [],
   "source": [
    "N = 70 # Dimension of the Hilbert space of the cavity\n",
    "n_q = 100 # Photon saturation number\n",
    "g_0 = 1 # light-matter coupling\n",
    "C = 1.64 # Cooperativity (equal to the pumping parameter p)\n",
    "k = g_0*np.sqrt(2/(C*n_q)) # Photon decay rate\n",
    "P = 2*n_q*k # Incoherent pumping\n",
    "eta = 0 # Photon loss due to other decay channels\n",
    "r = 0.45 # Squeezing parameter\n",
    "theta = np.pi # Squeezing angle\n",
    "alpha = (np.e**(4*r)-1)/(np.e**(4*r)+1) # omega_p/delta_c\n",
    "delta_c = 0 # Detuning w_c-w_p\n",
    "omega_p = alpha*delta_c # Amplitude of the coherent drive (down-conversion)\n",
    "delta_s = 0 #delta_c*np.sqrt(1-(omega_p/delta_c)**2) # Detuning in the squeezed basis\n",
    "delta_sigma = delta_s # Detuning w_sigma-w_p (the same as delta_c to apply RWA)\n",
    "C_s = C*np.cosh(r)**2 # Squeezed cooperativity (equal to the squeezed pumping parameter p_s)\n",
    "phi = (theta+np.pi)/2\n",
    "omega = 0"
   ]
  },
  {
   "cell_type": "code",
   "execution_count": 269,
   "metadata": {},
   "outputs": [
    {
     "name": "stderr",
     "output_type": "stream",
     "text": [
      "100%|██████████| 1/1 [00:00<00:00, 14.25it/s]\n",
      "100%|██████████| 1/1 [00:00<00:00, 125.00it/s]\n"
     ]
    }
   ],
   "source": [
    "rho_ss_sb = [] # Steady states of the system in the squeezed basis\n",
    "rho_bare_ss_sb = [] # Steady states of the system in the bare basis\n",
    "n_dist = [] # Photon number distribution in the squeezed basis\n",
    "\n",
    "for i in tqdm(range(np.size(phi))):\n",
    "    params = squeezed_lasing(delta_s,delta_sigma,g_0,P,k,N,theta,r,eta,omega,phi) # Intialize the calculation with its parameters\n",
    "    rho_ss_sb.append(params.calc_rho_sss()) # Calculate the density matrix in the squeeze basis\n",
    "    rho_bare_ss_sb.append(params.calc_rho_bss(rho = rho_ss_sb[i])) # Calculate the density matrix in the bare basis\n",
    "for i in tqdm(range(np.size(phi))):\n",
    "    n_dist.append(squeezed_lasing().phot_dist(rho_ss_sb[i]))  # Save the diagonal terms of the density matrix"
   ]
  },
  {
   "cell_type": "code",
   "execution_count": 273,
   "metadata": {},
   "outputs": [],
   "source": [
    "t, freqs, spec = squeezed_lasing(delta_s,delta_sigma,g_0,P,k,N,theta,r,eta,omega,phi).squeezed_spec((theta+np.pi)/2,rho_ss_sb[0],tau_f=4)"
   ]
  },
  {
   "cell_type": "code",
   "execution_count": 274,
   "metadata": {},
   "outputs": [
    {
     "data": {
      "text/plain": [
       "0.82748521530626"
      ]
     },
     "execution_count": 274,
     "metadata": {},
     "output_type": "execute_result"
    }
   ],
   "source": [
    "np.min(spec)"
   ]
  },
  {
   "cell_type": "code",
   "execution_count": 275,
   "metadata": {},
   "outputs": [
    {
     "data": {
      "image/png": "[encoded data removed]",
      "text/plain": [
       "<Figure size 640x480 with 1 Axes>"
      ]
     },
     "metadata": {},
     "output_type": "display_data"
    }
   ],
   "source": [
    "nrm = colors.TwoSlopeNorm(vmin=-1, vcenter=0, vmax=np.max(spec)) # Colorbar settings\n",
    "\n",
    "fig, ax = plt.subplots()\n",
    "\n",
    "cbar = plt.colorbar(cm.ScalarMappable(norm=nrm, cmap=cm.RdBu_r), cax = ax.inset_axes([1.05, 0.1, 0.05, 0.8]))\n",
    "ax.contourf(t*k, freqs/k, np.transpose(spec), 100, cmap=cm.RdBu_r, norm=nrm)\n",
    "ax.set_xlabel(r'Time $t\\kappa$')\n",
    "ax.set_ylabel(r'Frequency $\\omega$')\n",
    "plt.title(r'Squeezing spectrum $S_{\\phi}(\\omega)$')\n",
    "plt.show()"
   ]
  },
  {
   "cell_type": "code",
   "execution_count": 277,
   "metadata": {},
   "outputs": [
    {
     "data": {
      "text/plain": [
       "(-1.0, 2.0)"
      ]
     },
     "execution_count": 277,
     "metadata": {},
     "output_type": "execute_result"
    },
    {
     "data": {
      "image/png": "[encoded data removed]",
      "text/plain": [
       "<Figure size 640x480 with 1 Axes>"
      ]
     },
     "metadata": {},
     "output_type": "display_data"
    }
   ],
   "source": [
    "plt.plot(freqs,spec[9])\n",
    "#plt.plot(freqs,np.zeros(np.size(freqs)),'--')\n",
    "plt.ylim([-1,2])"
   ]
  }
 ],
 "metadata": {
  "kernelspec": {
   "display_name": "myenv",
   "language": "python",
   "name": "python3"
  },
  "language_info": {
   "codemirror_mode": {
    "name": "ipython",
    "version": 3
   },
   "file_extension": ".py",
   "mimetype": "text/x-python",
   "name": "python",
   "nbconvert_exporter": "python",
   "pygments_lexer": "ipython3",
   "version": "3.11.10"
  }
 },
 "nbformat": 4,
 "nbformat_minor": 2
}
