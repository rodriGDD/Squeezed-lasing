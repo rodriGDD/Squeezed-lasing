{
 "cells": [
  {
   "cell_type": "markdown",
   "metadata": {},
   "source": [
    "# Implementation of the squeezed laser"
   ]
  },
  {
   "cell_type": "code",
   "execution_count": 1567,
   "metadata": {},
   "outputs": [],
   "source": [
    "import math as math\n",
    "import numpy as np\n",
    "import scipy as scipy\n",
    "from tqdm import tqdm\n",
    "import matplotlib.pyplot as plt\n",
    "import matplotlib as mpl\n",
    "from matplotlib import cm\n",
    "import matplotlib.animation as animation\n",
    "import matplotlib.colors as colors\n",
    "import matplotlib.gridspec as gridspec\n",
    "import sys\n",
    "import os\n",
    "\n",
    "from qutip import *\n",
    "from src_2_0 import *"
   ]
  },
  {
   "cell_type": "code",
   "execution_count": 1568,
   "metadata": {},
   "outputs": [],
   "source": [
    "def make_rho(N,ket,bra):\n",
    "    return tensor(identity(N),ket*bra.dag())"
   ]
  },
  {
   "cell_type": "code",
   "execution_count": 1569,
   "metadata": {},
   "outputs": [],
   "source": [
    "def H_def(N,a,g,e,r_ket,s_ket,delta_c,Delta_1,Delta_s,Delta_r,g_s,g_r,Omega_s,Omega_r,omega=0,phi=0): # Defines the Hamiltonian of the system. It considers a coupling between a photonic cavity and a one-atom subsystem.\n",
    "    H_cav = delta_c*a.dag()*a+Delta_1*make_rho(N,e,e)+Delta_r*make_rho(N,r_ket,r_ket)+Delta_s*make_rho(N,s_ket,s_ket)\n",
    "    H_int = np.conj(g_s)*a.dag()*make_rho(N,e,s_ket)+g_s*a*make_rho(N,s_ket,e)+np.conj(g_r)*a.dag()*make_rho(N,g,r_ket)+g_r*a*make_rho(N,r_ket,g)\n",
    "    H_dr = (Omega_s/2)*(make_rho(N,g,s_ket)+make_rho(N,s_ket,g))+(Omega_r/2)*(make_rho(N,e,r_ket)+make_rho(N,r_ket,e))+omega*(a*np.exp(-1j*phi)+a.dag()*np.exp(1j*phi))\n",
    "    return H_cav+H_int+H_dr"
   ]
  },
  {
   "cell_type": "code",
   "execution_count": 1570,
   "metadata": {},
   "outputs": [],
   "source": [
    "def H_eff(N,a,g,e,g_0,r,theta,omega=0,phi=0): # Defines the Hamiltonian of the system. It considers a coupling between a photonic cavity and a one-atom subsystem.\n",
    "    return g_0*(make_rho(N,g,e)*(np.cosh(r)*a.dag()+np.exp(1j*theta)*np.sinh(r)*a)+make_rho(N,e,g)*(np.cosh(r)*a+np.exp(-1j*theta)*np.sinh(r)*a.dag()))+omega*(a*np.exp(-1j*phi)+a.dag()*np.exp(1j*phi))"
   ]
  },
  {
   "cell_type": "code",
   "execution_count": 1571,
   "metadata": {},
   "outputs": [],
   "source": [
    "def Lops_def(N,a,g,e,k,P,eta): # Defines the system's collapse (Lindblad) operators, one that represents incoherent pumping and other that describes photon loss.\n",
    "    return [np.sqrt(P)*make_rho(N,e,g),np.sqrt(k*(1+eta))*a]"
   ]
  },
  {
   "cell_type": "markdown",
   "metadata": {},
   "source": [
    "#### Parameters"
   ]
  },
  {
   "cell_type": "code",
   "execution_count": 1572,
   "metadata": {},
   "outputs": [],
   "source": [
    "### General parameters ###\n",
    "\n",
    "N = 20 # Dimension of the Hilbert space of the cavity\n",
    "n_q = 20 # Photon saturation number\n",
    "C = 1.6 # Cooperativity\n",
    "\n",
    "### Hamiltonian parameters ###\n",
    "\n",
    "g_0 = 10**(-5) # Light-matter coupling\n",
    "Delta = 1 # Detunings Delta_s = Delta_r\n",
    "r = 0.75 # Squeezing parameter\n",
    "theta = np.pi # Squeezing angle\n",
    "Omega_r = 1e-2\n"
   ]
  },
  {
   "cell_type": "code",
   "execution_count": 1573,
   "metadata": {},
   "outputs": [],
   "source": [
    "Omega_s = np.tanh(r)*Omega_r\n",
    "delta_c = (4*g_0**2*np.cosh(r)**2*Delta)/Omega_r**2\n",
    "Delta_1 = (Omega_r**2/(4*Delta))*(1-np.tanh(r)**2)\n",
    "g_r = -2*Delta*g_0*np.cosh(r)/Omega_r\n",
    "g_s = g_r*np.exp(1j*theta)"
   ]
  },
  {
   "cell_type": "code",
   "execution_count": 1574,
   "metadata": {},
   "outputs": [
    {
     "name": "stdout",
     "output_type": "stream",
     "text": [
      "1 0.006351489523872873 0.01 6.704819230486496e-06 1.4914645207033286e-05 -0.0025893665693536897 (0.0025893665693536897-3.171059480978159e-19j)\n"
     ]
    }
   ],
   "source": [
    "print(Delta,Omega_s,Omega_r,delta_c,Delta_1,g_r,g_s)"
   ]
  },
  {
   "cell_type": "markdown",
   "metadata": {},
   "source": [
    "#### Operators"
   ]
  },
  {
   "cell_type": "code",
   "execution_count": 1575,
   "metadata": {},
   "outputs": [],
   "source": [
    "a = tensor(destroy(N),identity(4)) # Annihilation operator\n",
    "g = basis(4,0) # Atomic states\n",
    "e = basis(4,1)\n",
    "s_ket = basis (4,2)\n",
    "r_ket = basis(4,3)"
   ]
  },
  {
   "cell_type": "code",
   "execution_count": 1576,
   "metadata": {},
   "outputs": [],
   "source": [
    "a_eff = tensor(destroy(N),identity(2))\n",
    "g_eff = basis(2,0)\n",
    "e_eff = basis(2,1)"
   ]
  },
  {
   "cell_type": "markdown",
   "metadata": {},
   "source": [
    "#### Hamiltonian"
   ]
  },
  {
   "cell_type": "code",
   "execution_count": 1577,
   "metadata": {},
   "outputs": [],
   "source": [
    "H = H_def(N,a,g,e,r_ket,s_ket,delta_c,Delta_1,Delta,Delta,g_s,g_r,Omega_s,Omega_r) # Iniatilize the hamiltonian for the chosen parameters"
   ]
  },
  {
   "cell_type": "code",
   "execution_count": 1578,
   "metadata": {},
   "outputs": [],
   "source": [
    "Heff = H_eff(N,a_eff,g_eff,e_eff,g_0,r,theta)"
   ]
  },
  {
   "cell_type": "code",
   "execution_count": 1579,
   "metadata": {},
   "outputs": [],
   "source": [
    "pob_0 = make_rho(N,g,g)\n",
    "pob_1 = make_rho(N,e,e)\n",
    "pob_r = make_rho(N,r_ket,r_ket)\n",
    "pob_s = make_rho(N,s_ket,s_ket)"
   ]
  },
  {
   "cell_type": "code",
   "execution_count": 1580,
   "metadata": {},
   "outputs": [],
   "source": [
    "pob_0_eff = make_rho(N,g_eff,g_eff)\n",
    "pob_1_eff = make_rho(N,e_eff,e_eff)"
   ]
  },
  {
   "cell_type": "code",
   "execution_count": 1581,
   "metadata": {},
   "outputs": [],
   "source": [
    "S = (0.5*(r*np.exp(-1j*theta)*a*a-np.conj(r*np.exp(-1j*theta))*a.dag()*a.dag())).expm() # Squeezing operator\n",
    "S_eff = (0.5*(r*np.exp(-1j*theta)*a_eff*a_eff-np.conj(r*np.exp(-1j*theta))*a_eff.dag()*a_eff.dag())).expm() # Squeezing operator"
   ]
  },
  {
   "cell_type": "code",
   "execution_count": 1600,
   "metadata": {},
   "outputs": [],
   "source": [
    "psi_0 = S*tensor(basis(N),e)\n",
    "psi_0_eff = S_eff*tensor(basis(N),e_eff)\n",
    "t_vec = np.logspace(np.log10(1e-4),np.log10(1000000000000),10000)"
   ]
  },
  {
   "cell_type": "code",
   "execution_count": 1583,
   "metadata": {},
   "outputs": [
    {
     "data": {
      "text/plain": [
       "0.6761321041153965"
      ]
     },
     "execution_count": 1583,
     "metadata": {},
     "output_type": "execute_result"
    }
   ],
   "source": [
    "expect(a.dag()*a,psi_0*psi_0.dag())"
   ]
  },
  {
   "cell_type": "code",
   "execution_count": 1584,
   "metadata": {},
   "outputs": [
    {
     "data": {
      "image/png": "[encoded data removed]",
      "text/plain": [
       "<Figure size 640x480 with 1 Axes>"
      ]
     },
     "metadata": {},
     "output_type": "display_data"
    }
   ],
   "source": [
    "wr = wigner_rep(rhos = psi_0*psi_0.dag()) # Initialize the calculation with its parameters\n",
    "x_lim = 20 # X-Axis limits\n",
    "p_lim = 5 # P-Axis limits\n",
    "wr.wigner_plot(x_lim,p_lim) # Calculate the Wigner function"
   ]
  },
  {
   "cell_type": "code",
   "execution_count": 1585,
   "metadata": {},
   "outputs": [],
   "source": [
    "a_s = a*np.cosh(r)+np.exp(-1j*theta)*a.dag()*np.sinh(r) # Annihilation operator of the squeezed basis"
   ]
  },
  {
   "cell_type": "code",
   "execution_count": 1586,
   "metadata": {},
   "outputs": [],
   "source": [
    "a_s_eff = a_eff*np.cosh(r)+np.exp(-1j*theta)*a_eff.dag()*np.sinh(r) # Annihilation operator of the squeezed basis"
   ]
  },
  {
   "cell_type": "markdown",
   "metadata": {},
   "source": [
    "#### Introduction of dissipation"
   ]
  },
  {
   "cell_type": "code",
   "execution_count": 1662,
   "metadata": {},
   "outputs": [],
   "source": [
    "k = g_0*np.sqrt(2/(C*n_q)) # Photon decay rate\n",
    "P = 2*n_q*k # Incoherent pumping\n",
    "gamma = 0"
   ]
  },
  {
   "cell_type": "code",
   "execution_count": 1663,
   "metadata": {},
   "outputs": [
    {
     "data": {
      "text/plain": [
       "1.6"
      ]
     },
     "execution_count": 1663,
     "metadata": {},
     "output_type": "execute_result"
    }
   ],
   "source": [
    "(4*g_0**2)/(k*P)"
   ]
  },
  {
   "cell_type": "code",
   "execution_count": 1664,
   "metadata": {},
   "outputs": [],
   "source": [
    "L = liouvillian(H,[np.sqrt(k)*a,np.sqrt(P)*make_rho(N,e,g),np.sqrt(gamma)*make_rho(N,e,s_ket)])\n",
    "L_eff = liouvillian(Heff,[np.sqrt(k)*a_eff,np.sqrt(P)*make_rho(N,e_eff,g_eff)])"
   ]
  },
  {
   "cell_type": "code",
   "execution_count": 1665,
   "metadata": {},
   "outputs": [],
   "source": [
    "eigval, eigvec_r = L.eigenstates()"
   ]
  },
  {
   "cell_type": "code",
   "execution_count": 1666,
   "metadata": {},
   "outputs": [],
   "source": [
    "V_r = np.column_stack([ev.full().flatten() for ev in eigvec_r])  # Left and right eigenvectors\n",
    "V_l = np.transpose(scipy.linalg.inv(V_r))\n",
    "rho_0 = operator_to_vector(psi_0*psi_0.dag()) # Vectorized initial state"
   ]
  },
  {
   "cell_type": "code",
   "execution_count": 1667,
   "metadata": {},
   "outputs": [],
   "source": [
    "eigval_eff, eigvec_r_eff = L_eff.eigenstates()"
   ]
  },
  {
   "cell_type": "code",
   "execution_count": 1668,
   "metadata": {},
   "outputs": [],
   "source": [
    "V_r_eff = np.column_stack([ev.full().flatten() for ev in eigvec_r_eff])  # Left and right eigenvectors\n",
    "V_l_eff = np.transpose(scipy.linalg.inv(V_r_eff))\n",
    "rho_0_eff = operator_to_vector(psi_0_eff*psi_0_eff.dag()) # Vectorized initial state"
   ]
  },
  {
   "cell_type": "code",
   "execution_count": 1669,
   "metadata": {},
   "outputs": [],
   "source": [
    "sorted_ev = np.sort(np.real(eigval))\n",
    "gap = sorted_ev[-1]-sorted_ev[-2]"
   ]
  },
  {
   "cell_type": "code",
   "execution_count": 1670,
   "metadata": {},
   "outputs": [
    {
     "data": {
      "text/plain": [
       "393114775.4410138"
      ]
     },
     "execution_count": 1670,
     "metadata": {},
     "output_type": "execute_result"
    }
   ],
   "source": [
    "1/gap"
   ]
  },
  {
   "cell_type": "code",
   "execution_count": 1671,
   "metadata": {},
   "outputs": [
    {
     "data": {
      "text/plain": [
       "399999.99999999994"
      ]
     },
     "execution_count": 1671,
     "metadata": {},
     "output_type": "execute_result"
    }
   ],
   "source": [
    "1/k"
   ]
  },
  {
   "cell_type": "code",
   "execution_count": 1672,
   "metadata": {},
   "outputs": [],
   "source": [
    "def evolve_rho(t_vec,eigval,V_r,V_l,rho_0):\n",
    "    aux = np.zeros(np.size(eigval),dtype=complex)\n",
    "\n",
    "    for i in range(np.size(eigval)):\n",
    "        aux[i] = np.transpose(V_l[:,i])*rho_0\n",
    "\n",
    "    aux_2 = np.exp(np.outer(t_vec,eigval))*aux\n",
    "\n",
    "    return np.tensordot(aux_2,V_r, axes=([1], [1]))\n"
   ]
  },
  {
   "cell_type": "code",
   "execution_count": 1673,
   "metadata": {},
   "outputs": [],
   "source": [
    "rho = evolve_rho(t_vec,eigval,V_r,V_l,rho_0)\n",
    "rho_eff = evolve_rho(t_vec,eigval_eff,V_r_eff,V_l_eff,rho_0_eff)"
   ]
  },
  {
   "cell_type": "code",
   "execution_count": 1674,
   "metadata": {},
   "outputs": [],
   "source": [
    "p0 = operator_to_vector(pob_0).full().flatten()\n",
    "p1 = operator_to_vector(pob_1).full().flatten()\n",
    "pr = operator_to_vector(pob_r).full().flatten()\n",
    "ps = operator_to_vector(pob_s).full().flatten()"
   ]
  },
  {
   "cell_type": "code",
   "execution_count": 1675,
   "metadata": {},
   "outputs": [],
   "source": [
    "p0_eff = operator_to_vector(pob_0_eff).full().flatten()\n",
    "p1_eff = operator_to_vector(pob_1_eff).full().flatten()"
   ]
  },
  {
   "cell_type": "code",
   "execution_count": 1676,
   "metadata": {},
   "outputs": [],
   "source": [
    "n = operator_to_vector(a.dag()*a).full().flatten()\n",
    "n_eff = operator_to_vector(a_eff.dag()*a_eff).full().flatten()"
   ]
  },
  {
   "cell_type": "code",
   "execution_count": 1677,
   "metadata": {},
   "outputs": [
    {
     "name": "stderr",
     "output_type": "stream",
     "text": [
      "100%|██████████| 10000/10000 [00:00<00:00, 22444.17it/s]\n"
     ]
    }
   ],
   "source": [
    "p0_exp = []\n",
    "p1_exp = []\n",
    "pr_exp = []\n",
    "ps_exp = []\n",
    "n_exp = []\n",
    "\n",
    "for j in tqdm(range(np.size(t_vec))):\n",
    "    p0_exp.append(np.matmul(p0,rho[j]))\n",
    "    p1_exp.append(np.matmul(p1,rho[j]))\n",
    "    pr_exp.append(np.matmul(pr,rho[j]))\n",
    "    ps_exp.append(np.matmul(ps,rho[j]))\n",
    "    n_exp.append(np.matmul(n,rho[j]))"
   ]
  },
  {
   "cell_type": "code",
   "execution_count": 1678,
   "metadata": {},
   "outputs": [
    {
     "name": "stderr",
     "output_type": "stream",
     "text": [
      "  0%|          | 0/10000 [00:00<?, ?it/s]"
     ]
    },
    {
     "name": "stderr",
     "output_type": "stream",
     "text": [
      "100%|██████████| 10000/10000 [00:00<00:00, 57812.44it/s]\n"
     ]
    }
   ],
   "source": [
    "p0_exp_eff = []\n",
    "p1_exp_eff = []\n",
    "n_exp_eff = []\n",
    "\n",
    "for j in tqdm(range(np.size(t_vec))):\n",
    "    p0_exp_eff.append(np.matmul(p0_eff,rho_eff[j]))\n",
    "    p1_exp_eff.append(np.matmul(p1_eff,rho_eff[j]))\n",
    "    n_exp_eff.append(np.matmul(n_eff,rho_eff[j]))"
   ]
  },
  {
   "cell_type": "code",
   "execution_count": 1679,
   "metadata": {},
   "outputs": [
    {
     "data": {
      "image/png": "[encoded data removed]",
      "text/plain": [
       "<Figure size 640x480 with 1 Axes>"
      ]
     },
     "metadata": {},
     "output_type": "display_data"
    }
   ],
   "source": [
    "fig, ax = plt.subplots()\n",
    "ax.plot(t_vec*k,p0_exp,'b',label=r'$|0\\rangle$')\n",
    "ax.plot(t_vec*k,p0_exp_eff,'y--',label=r'$|0\\rangle_{eff}$')\n",
    "ax.plot(t_vec*k,p1_exp,'r',label=r'$|1\\rangle$')\n",
    "ax.plot(t_vec*k,p1_exp_eff,'g--',label=r'$|1\\rangle_{eff}$')\n",
    "ax.plot(t_vec*k,pr_exp,'c',label=r'$|r\\rangle$')\n",
    "ax.plot(t_vec*k,ps_exp,'m',label=r'$|s\\rangle$')\n",
    "#ax.plot(t_vec*k,n_exp,'k',label=r'$n$')\n",
    "#ax.plot(t_vec*k,n_exp_eff,'--',color='lightgrey',label=r'$n_{eff}$')\n",
    "ax.plot([(1/gap-1e-15)*k,(1/gap+1e-15)*k],[-10,10],'r--',lw=0.5)\n",
    "plt.legend(fontsize = 14, loc=2)\n",
    "plt.xlabel('$t\\kappa$')\n",
    "plt.ylabel('Population')\n",
    "plt.ylim([0,1])\n",
    "#plt.ylim([0.99,1.0001])\n",
    "plt.xlim([1e-2,15000])\n",
    "plt.xscale('log')\n",
    "fig.savefig('./4LS\\PREVIA_4_2.png',dpi=500, bbox_inches = 'tight')"
   ]
  },
  {
   "cell_type": "code",
   "execution_count": 1680,
   "metadata": {},
   "outputs": [],
   "source": [
    "check = Qobj(rho[-1].reshape((N*4,N*4), order='F'), dims=[[N,4],[N,4]])"
   ]
  },
  {
   "cell_type": "code",
   "execution_count": 1682,
   "metadata": {},
   "outputs": [
    {
     "data": {
      "image/png": "[encoded data removed]",
      "text/plain": [
       "<Figure size 640x480 with 1 Axes>"
      ]
     },
     "metadata": {},
     "output_type": "display_data"
    }
   ],
   "source": [
    "wr = wigner_rep(rhos = check) # Initialize the calculation with its parameters\n",
    "x_lim = 20 # X-Axis limits\n",
    "p_lim = 10 # P-Axis limits\n",
    "wr.wigner_plot(x_lim,p_lim) # Calculate the Wigner function"
   ]
  }
 ],
 "metadata": {
  "kernelspec": {
   "display_name": "myenv",
   "language": "python",
   "name": "python3"
  },
  "language_info": {
   "codemirror_mode": {
    "name": "ipython",
    "version": 3
   },
   "file_extension": ".py",
   "mimetype": "text/x-python",
   "name": "python",
   "nbconvert_exporter": "python",
   "pygments_lexer": "ipython3",
   "version": "3.11.10"
  }
 },
 "nbformat": 4,
 "nbformat_minor": 2
}
