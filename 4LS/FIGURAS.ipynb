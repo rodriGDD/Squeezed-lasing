{
 "cells": [
  {
   "cell_type": "code",
   "execution_count": 2,
   "metadata": {},
   "outputs": [],
   "source": [
    "import math as math\n",
    "import numpy as np\n",
    "import scipy as scipy\n",
    "from tqdm import tqdm\n",
    "import matplotlib.pyplot as plt\n",
    "import matplotlib as mpl\n",
    "from matplotlib import cm\n",
    "import matplotlib.animation as animation\n",
    "import matplotlib.colors as colors\n",
    "import matplotlib.gridspec as gridspec\n",
    "import sys\n",
    "import os\n",
    "\n",
    "from qutip import *\n",
    "from src_2_0 import *"
   ]
  },
  {
   "cell_type": "code",
   "execution_count": 3,
   "metadata": {},
   "outputs": [],
   "source": [
    "### General parameters ###\n",
    "g_0 = 0.01 # Light-matter coupling\n",
    "theta = np.pi # Squeezing angle\n",
    "N = 300"
   ]
  },
  {
   "cell_type": "code",
   "execution_count": 4,
   "metadata": {},
   "outputs": [],
   "source": [
    "r = 1 # Squeezing parameter\n",
    "delta_c = 0.1 # Detuning w_c-w_p\n",
    "n_q = 100 # Photon saturation number\n",
    "C = 1 # Cooperativity (equal to the pumping parameter p)\n",
    "omega = 2*1e-7 # Amplitude of the coherent driving with well defined phase\n",
    "phi = np.linspace(-np.pi/2,2*np.pi-np.pi/2,25) # Fixed phase"
   ]
  },
  {
   "cell_type": "code",
   "execution_count": 6,
   "metadata": {},
   "outputs": [],
   "source": [
    "a = open('PHI_VAR_0.0_1.0_1.00.txt','r')\n",
    "\n",
    "data_fluc = a.readlines()\n",
    "\n",
    "fluc = np.zeros(np.size(phi),dtype=complex)\n",
    "\n",
    "\n",
    "for i in range(phi.size):\n",
    "    data_fluc[i] = data_fluc[i].split()\n",
    "    fluc[i]=data_fluc[i][1]\n",
    "\n",
    "a.close()"
   ]
  },
  {
   "cell_type": "code",
   "execution_count": 18,
   "metadata": {},
   "outputs": [
    {
     "data": {
      "image/png": "[encoded data removed]",
      "text/plain": [
       "<Figure size 640x480 with 1 Axes>"
      ]
     },
     "metadata": {},
     "output_type": "display_data"
    }
   ],
   "source": [
    "fig,ax = plt.subplots()\n",
    "ax.plot(phi+np.pi/2,fluc,'.')\n",
    "ax.plot([np.min(phi+np.pi/2),np.max(phi+np.pi/2)],[1.05,1.05],'--',lw=1.5,color='k')\n",
    "ax.fill_between(phi+np.pi/2,1.07,fluc,alpha=0.5,where=np.array(fluc)<1.1)\n",
    "plt.xlim([np.min(phi+np.pi/2),np.max(phi+np.pi/2)])\n",
    "plt.xlabel(r'$\\varphi$')\n",
    "plt.ylabel(r'$\\Delta\\hat{X}_{\\pi-\\theta/2}$')\n",
    "plt.yticks([2, 4, 6, 8])\n",
    "#plt.yscale('log')\n",
    "fig.savefig('fluc.png',dpi=500, bbox_inches = 'tight')\n",
    "plt.show()"
   ]
  }
 ],
 "metadata": {
  "kernelspec": {
   "display_name": "myenv",
   "language": "python",
   "name": "python3"
  },
  "language_info": {
   "codemirror_mode": {
    "name": "ipython",
    "version": 3
   },
   "file_extension": ".py",
   "mimetype": "text/x-python",
   "name": "python",
   "nbconvert_exporter": "python",
   "pygments_lexer": "ipython3",
   "version": "3.11.10"
  }
 },
 "nbformat": 4,
 "nbformat_minor": 2
}
